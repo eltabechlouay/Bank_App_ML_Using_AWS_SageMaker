{
 "cells": [
  {
   "cell_type": "code",
   "execution_count": 2,
   "id": "2b958a77",
   "metadata": {},
   "outputs": [],
   "source": [
    "# Importing the Necessary Libraries:\n",
    "\n",
    "import sagemaker\n",
    "from sagemaker.amazon.amazon_estimator import get_image_uri\n",
    "from sagemaker.session import s3_input, Session\n",
    "import boto3"
   ]
  },
  {
   "cell_type": "code",
   "execution_count": 8,
   "id": "192fed1c",
   "metadata": {},
   "outputs": [
    {
     "name": "stdout",
     "output_type": "stream",
     "text": [
      "us-east-1\n"
     ]
    }
   ],
   "source": [
    "# Setting a Bucket Name:\n",
    "bucket_name = 'bank-application-ml'\n",
    "my_region = boto3.session.Session().region_name\n",
    "print(my_region)"
   ]
  },
  {
   "cell_type": "code",
   "execution_count": 9,
   "id": "b8fbd28b",
   "metadata": {},
   "outputs": [
    {
     "name": "stdout",
     "output_type": "stream",
     "text": [
      "s3 bucket is created\n"
     ]
    }
   ],
   "source": [
    "# Creating Bucket using code:\n",
    "s3 = boto3.resource('s3')\n",
    "try:\n",
    "    if my_region == 'us-east-1':\n",
    "        s3.create_bucket(Bucket = bucket_name)\n",
    "    print('s3 bucket is created')\n",
    "except Exception as e:\n",
    "    print('s3 error: ', e)"
   ]
  },
  {
   "cell_type": "code",
   "execution_count": 10,
   "id": "c2ea7dc7",
   "metadata": {},
   "outputs": [
    {
     "name": "stdout",
     "output_type": "stream",
     "text": [
      "s3://bank-application-ml/xgboost-as-a-built-in-algo/output\n"
     ]
    }
   ],
   "source": [
    "# We need an output path where the trained model will be saved:\n",
    "prefix = 'xgboost-as-a-built-in-algo'\n",
    "path = 's3://{}/{}/output'.format(bucket_name, prefix)\n",
    "print(path)"
   ]
  },
  {
   "cell_type": "markdown",
   "id": "1a5d95ce",
   "metadata": {},
   "source": [
    "Now, It's time to download the bank dataset to train our model:"
   ]
  },
  {
   "cell_type": "code",
   "execution_count": 12,
   "id": "4df9fa35",
   "metadata": {},
   "outputs": [
    {
     "name": "stdout",
     "output_type": "stream",
     "text": [
      "Success\n",
      "Success: Data is Loaded\n"
     ]
    }
   ],
   "source": [
    "import pandas as pd\n",
    "import urllib\n",
    "try:\n",
    "    urllib.request.urlretrieve ('https://d1.awsstatic.com/tmt/build-train-deploy-machine-learning-model-sagemaker/bank_clean.27f01fbbdf43271788427f3682996ae29ceca05d.csv', 'bank_clean.csv')\n",
    "    print('Success')\n",
    "except Exception as e:\n",
    "    print('Data Load Error: ', e)\n",
    "try:\n",
    "    df_model = pd.read_csv('./bank_clean.csv', index_col=0)\n",
    "    print('Success: Data is Loaded')\n",
    "except Exception as e:\n",
    "    print('Data Load Error: ', e)"
   ]
  },
  {
   "cell_type": "markdown",
   "id": "abb2c024",
   "metadata": {},
   "source": [
    "Next Step, is doing a Train-Test Split Using the NumPy Library:"
   ]
  },
  {
   "cell_type": "code",
   "execution_count": 13,
   "id": "e556d0d5",
   "metadata": {},
   "outputs": [
    {
     "name": "stdout",
     "output_type": "stream",
     "text": [
      "(28831, 61) (12357, 61)\n"
     ]
    },
    {
     "name": "stderr",
     "output_type": "stream",
     "text": [
      "/home/ec2-user/anaconda3/envs/python3/lib/python3.10/site-packages/numpy/core/fromnumeric.py:57: FutureWarning: 'DataFrame.swapaxes' is deprecated and will be removed in a future version. Please use 'DataFrame.transpose' instead.\n",
      "  return bound(*args, **kwds)\n"
     ]
    }
   ],
   "source": [
    "import numpy as np\n",
    "train, test = np.split(df_model.sample(frac=1, random_state=1729), [int(0.7 * len(df_model))])\n",
    "print(train.shape, test.shape)"
   ]
  },
  {
   "cell_type": "markdown",
   "id": "5985d870",
   "metadata": {},
   "source": [
    "Now, Saving the Train and Test Datas into Buckets:"
   ]
  },
  {
   "cell_type": "code",
   "execution_count": 18,
   "id": "a0b4baf5",
   "metadata": {},
   "outputs": [],
   "source": [
    "# Starting with the Train Data:\n",
    "import os\n",
    "from sagemaker.inputs import TrainingInput\n",
    "\n",
    "pd.concat([train['y_yes'], train.drop(['y_no', 'y_yes'],\n",
    "                                     axis = 1)],\n",
    "         axis = 1).to_csv('train.csv', index = False, header = False)\n",
    "\n",
    "# Uploading to S3 Bucket:\n",
    "boto3.Session().resource('s3').Bucket(bucket_name).Object(os.path.join(prefix, 'train/train.csv')).upload_file('train.csv')\n",
    "s3_input_train = TrainingInput(s3_data = 's3://{}/{}/train'.format(bucket_name, prefix), content_type='csv')"
   ]
  },
  {
   "cell_type": "code",
   "execution_count": 19,
   "id": "12cd111e",
   "metadata": {},
   "outputs": [],
   "source": [
    "# Now for the Test Data:\n",
    "pd.concat([test['y_yes'], test.drop(['y_no', 'y_yes'], axis=1)], axis=1).to_csv('test.csv', index= False, header=False)\n",
    "\n",
    "# Saving Test data to S3 Bucket\n",
    "boto3.Session().resource('s3').Bucket(bucket_name).Object(os.path.join(prefix, 'test/test.csv')).upload_file('test.csv')\n",
    "s3_input_test = TrainingInput(s3_data = 's3://{}/{}/test'.format(bucket_name, prefix), content_type = 'csv')"
   ]
  },
  {
   "cell_type": "markdown",
   "id": "d8f1fdc1",
   "metadata": {},
   "source": [
    "Time to Build the XgBoost Model of Inbuilt Algorithm:"
   ]
  },
  {
   "cell_type": "code",
   "execution_count": 26,
   "id": "31e0ae54",
   "metadata": {},
   "outputs": [
    {
     "name": "stdout",
     "output_type": "stream",
     "text": [
      "683313688378.dkr.ecr.us-east-1.amazonaws.com/sagemaker-xgboost:1.0-1-cpu-py3\n"
     ]
    }
   ],
   "source": [
    "# Looking for the XGBoost Image URI:\n",
    "region = boto3.Session().region_name\n",
    "cont = sagemaker.image_uris.retrieve('xgboost',region,version = '1.0-1')\n",
    "print(cont)"
   ]
  },
  {
   "cell_type": "code",
   "execution_count": 29,
   "id": "58dd5630",
   "metadata": {},
   "outputs": [],
   "source": [
    "# Hyprparameters for XGBOost:\n",
    "hyperparameters = {'max_depth': 5,\n",
    "                  'eta':0.2,\n",
    "                  'gamma':4,\n",
    "                  'min_child_weight':6,\n",
    "                  'subsample':0.7,\n",
    "                  'objective':'binary:logistic',\n",
    "                  'num_round':50}"
   ]
  },
  {
   "cell_type": "code",
   "execution_count": 34,
   "id": "8e5cf15b",
   "metadata": {},
   "outputs": [],
   "source": [
    "# Constructing the Sagemaker Estimator:\n",
    "estimator = sagemaker.estimator.Estimator(\n",
    "    image_uri=cont,\n",
    "    hyperparameters=hyperparameters,\n",
    "    role=sagemaker.get_execution_role(),\n",
    "    instance_count=1,\n",
    "    instance_type='ml.m5.2xlarge',\n",
    "    volume_size=5,  # Using 5GB\n",
    "    output_path=path,\n",
    "    use_spot_instances=True,\n",
    "    max_run=300,\n",
    "    max_wait=600\n",
    ")"
   ]
  },
  {
   "cell_type": "code",
   "execution_count": 35,
   "id": "867c683f",
   "metadata": {},
   "outputs": [
    {
     "name": "stdout",
     "output_type": "stream",
     "text": [
      "<sagemaker.estimator.Estimator object at 0x7faa0c57c250>\n"
     ]
    }
   ],
   "source": [
    "print (estimator)"
   ]
  },
  {
   "cell_type": "code",
   "execution_count": 36,
   "id": "3eb65283",
   "metadata": {},
   "outputs": [
    {
     "name": "stderr",
     "output_type": "stream",
     "text": [
      "INFO:sagemaker:Creating training-job with name: sagemaker-xgboost-2024-08-08-12-27-02-767\n"
     ]
    },
    {
     "name": "stdout",
     "output_type": "stream",
     "text": [
      "2024-08-08 12:27:02 Starting - Starting the training job...\n",
      "2024-08-08 12:27:19 Starting - Preparing the instances for training...\n",
      "2024-08-08 12:28:00 Downloading - Downloading the training image......\n",
      "2024-08-08 12:29:01 Training - Training image download completed. Training in progress.\n",
      "2024-08-08 12:29:01 Uploading - Uploading generated training model\u001b[34m[2024-08-08 12:28:54.397 ip-10-2-72-172.ec2.internal:7 INFO utils.py:27] RULE_JOB_STOP_SIGNAL_FILENAME: None\u001b[0m\n",
      "\u001b[34mINFO:sagemaker-containers:Imported framework sagemaker_xgboost_container.training\u001b[0m\n",
      "\u001b[34mINFO:sagemaker-containers:Failed to parse hyperparameter objective value binary:logistic to Json.\u001b[0m\n",
      "\u001b[34mReturning the value itself\u001b[0m\n",
      "\u001b[34mINFO:sagemaker-containers:No GPUs detected (normal if no gpus installed)\u001b[0m\n",
      "\u001b[34mINFO:sagemaker_xgboost_container.training:Running XGBoost Sagemaker in algorithm mode\u001b[0m\n",
      "\u001b[34mINFO:root:Determined delimiter of CSV input is ','\u001b[0m\n",
      "\u001b[34mINFO:root:Determined delimiter of CSV input is ','\u001b[0m\n",
      "\u001b[34mINFO:root:Determined delimiter of CSV input is ','\u001b[0m\n",
      "\u001b[34mINFO:root:Determined delimiter of CSV input is ','\u001b[0m\n",
      "\u001b[34mINFO:root:Single node training.\u001b[0m\n",
      "\u001b[34m[12:28:54] 28831x59 matrix with 1701029 entries loaded from /opt/ml/input/data/train?format=csv&label_column=0&delimiter=,\u001b[0m\n",
      "\u001b[34m[12:28:54] 12357x59 matrix with 729063 entries loaded from /opt/ml/input/data/validation?format=csv&label_column=0&delimiter=,\u001b[0m\n",
      "\u001b[34m[2024-08-08 12:28:54.554 ip-10-2-72-172.ec2.internal:7 INFO json_config.py:91] Creating hook from json_config at /opt/ml/input/config/debughookconfig.json.\u001b[0m\n",
      "\u001b[34m[2024-08-08 12:28:54.555 ip-10-2-72-172.ec2.internal:7 INFO hook.py:201] tensorboard_dir has not been set for the hook. SMDebug will not be exporting tensorboard summaries.\u001b[0m\n",
      "\u001b[34m[2024-08-08 12:28:54.555 ip-10-2-72-172.ec2.internal:7 INFO profiler_config_parser.py:102] User has disabled profiler.\u001b[0m\n",
      "\u001b[34m[2024-08-08 12:28:54.556 ip-10-2-72-172.ec2.internal:7 INFO hook.py:255] Saving to /opt/ml/output/tensors\u001b[0m\n",
      "\u001b[34m[2024-08-08 12:28:54.556 ip-10-2-72-172.ec2.internal:7 INFO state_store.py:77] The checkpoint config file /opt/ml/input/config/checkpointconfig.json does not exist.\u001b[0m\n",
      "\u001b[34mINFO:root:Debug hook created from config\u001b[0m\n",
      "\u001b[34mINFO:root:Train matrix has 28831 rows\u001b[0m\n",
      "\u001b[34mINFO:root:Validation matrix has 12357 rows\u001b[0m\n",
      "\u001b[34m[12:28:54] WARNING: /workspace/src/learner.cc:328: \u001b[0m\n",
      "\u001b[34mParameters: { num_round } might not be used.\n",
      "  This may not be accurate due to some parameters are only used in language bindings but\n",
      "  passed down to XGBoost core.  Or some parameters are not used but slip through this\n",
      "  verification. Please open an issue if you find above cases.\u001b[0m\n",
      "\u001b[34m[0]#011train-error:0.10079#011validation-error:0.10528\u001b[0m\n",
      "\u001b[34m[2024-08-08 12:28:54.620 ip-10-2-72-172.ec2.internal:7 INFO hook.py:423] Monitoring the collections: metrics\u001b[0m\n",
      "\u001b[34m[2024-08-08 12:28:54.623 ip-10-2-72-172.ec2.internal:7 INFO hook.py:486] Hook is writing from the hook with pid: 7\u001b[0m\n",
      "\u001b[34m[1]#011train-error:0.09968#011validation-error:0.10456\u001b[0m\n",
      "\u001b[34m[2]#011train-error:0.10017#011validation-error:0.10375\u001b[0m\n",
      "\u001b[34m[3]#011train-error:0.09989#011validation-error:0.10310\u001b[0m\n",
      "\u001b[34m[4]#011train-error:0.09996#011validation-error:0.10286\u001b[0m\n",
      "\u001b[34m[5]#011train-error:0.09906#011validation-error:0.10261\u001b[0m\n",
      "\u001b[34m[6]#011train-error:0.09930#011validation-error:0.10286\u001b[0m\n",
      "\u001b[34m[7]#011train-error:0.09951#011validation-error:0.10261\u001b[0m\n",
      "\u001b[34m[8]#011train-error:0.09920#011validation-error:0.10286\u001b[0m\n",
      "\u001b[34m[9]#011train-error:0.09871#011validation-error:0.10294\u001b[0m\n",
      "\u001b[34m[10]#011train-error:0.09868#011validation-error:0.10294\u001b[0m\n",
      "\u001b[34m[11]#011train-error:0.09868#011validation-error:0.10326\u001b[0m\n",
      "\u001b[34m[12]#011train-error:0.09854#011validation-error:0.10358\u001b[0m\n",
      "\u001b[34m[13]#011train-error:0.09892#011validation-error:0.10342\u001b[0m\n",
      "\u001b[34m[14]#011train-error:0.09850#011validation-error:0.10342\u001b[0m\n",
      "\u001b[34m[15]#011train-error:0.09844#011validation-error:0.10326\u001b[0m\n",
      "\u001b[34m[16]#011train-error:0.09857#011validation-error:0.10318\u001b[0m\n",
      "\u001b[34m[17]#011train-error:0.09799#011validation-error:0.10318\u001b[0m\n",
      "\u001b[34m[18]#011train-error:0.09816#011validation-error:0.10383\u001b[0m\n",
      "\u001b[34m[19]#011train-error:0.09857#011validation-error:0.10383\u001b[0m\n",
      "\u001b[34m[20]#011train-error:0.09830#011validation-error:0.10350\u001b[0m\n",
      "\u001b[34m[21]#011train-error:0.09826#011validation-error:0.10318\u001b[0m\n",
      "\u001b[34m[22]#011train-error:0.09847#011validation-error:0.10399\u001b[0m\n",
      "\u001b[34m[23]#011train-error:0.09833#011validation-error:0.10407\u001b[0m\n",
      "\u001b[34m[24]#011train-error:0.09812#011validation-error:0.10415\u001b[0m\n",
      "\u001b[34m[25]#011train-error:0.09812#011validation-error:0.10399\u001b[0m\n",
      "\u001b[34m[26]#011train-error:0.09774#011validation-error:0.10375\u001b[0m\n",
      "\u001b[34m[27]#011train-error:0.09781#011validation-error:0.10375\u001b[0m\n",
      "\u001b[34m[28]#011train-error:0.09781#011validation-error:0.10391\u001b[0m\n",
      "\u001b[34m[29]#011train-error:0.09778#011validation-error:0.10367\u001b[0m\n",
      "\u001b[34m[30]#011train-error:0.09781#011validation-error:0.10383\u001b[0m\n",
      "\u001b[34m[31]#011train-error:0.09771#011validation-error:0.10358\u001b[0m\n",
      "\u001b[34m[32]#011train-error:0.09743#011validation-error:0.10391\u001b[0m\n",
      "\u001b[34m[33]#011train-error:0.09753#011validation-error:0.10342\u001b[0m\n",
      "\u001b[34m[34]#011train-error:0.09767#011validation-error:0.10342\u001b[0m\n",
      "\u001b[34m[35]#011train-error:0.09757#011validation-error:0.10350\u001b[0m\n",
      "\u001b[34m[36]#011train-error:0.09757#011validation-error:0.10342\u001b[0m\n",
      "\u001b[34m[37]#011train-error:0.09736#011validation-error:0.10342\u001b[0m\n",
      "\u001b[34m[38]#011train-error:0.09750#011validation-error:0.10342\u001b[0m\n",
      "\u001b[34m[39]#011train-error:0.09733#011validation-error:0.10350\u001b[0m\n",
      "\u001b[34m[40]#011train-error:0.09705#011validation-error:0.10358\u001b[0m\n",
      "\u001b[34m[41]#011train-error:0.09701#011validation-error:0.10383\u001b[0m\n",
      "\u001b[34m[42]#011train-error:0.09712#011validation-error:0.10407\u001b[0m\n",
      "\u001b[34m[43]#011train-error:0.09698#011validation-error:0.10375\u001b[0m\n",
      "\u001b[34m[44]#011train-error:0.09733#011validation-error:0.10342\u001b[0m\n",
      "\u001b[34m[45]#011train-error:0.09736#011validation-error:0.10367\u001b[0m\n",
      "\u001b[34m[46]#011train-error:0.09746#011validation-error:0.10350\u001b[0m\n",
      "\u001b[34m[47]#011train-error:0.09736#011validation-error:0.10358\u001b[0m\n",
      "\u001b[34m[48]#011train-error:0.09712#011validation-error:0.10334\u001b[0m\n",
      "\u001b[34m[49]#011train-error:0.09712#011validation-error:0.10318\u001b[0m\n",
      "\n",
      "2024-08-08 12:29:14 Completed - Training job completed\n",
      "Training seconds: 90\n",
      "Billable seconds: 41\n",
      "Managed Spot Training savings: 54.4%\n"
     ]
    }
   ],
   "source": [
    "estimator.fit({'train':s3_input_train, 'validation':s3_input_test})"
   ]
  },
  {
   "cell_type": "markdown",
   "id": "df34b5f5",
   "metadata": {},
   "source": [
    "Deploying the Machine Learning Model:"
   ]
  },
  {
   "cell_type": "code",
   "execution_count": 37,
   "id": "01f28b5c",
   "metadata": {},
   "outputs": [
    {
     "name": "stderr",
     "output_type": "stream",
     "text": [
      "INFO:sagemaker:Creating model with name: sagemaker-xgboost-2024-08-08-13-04-14-072\n",
      "INFO:sagemaker:Creating endpoint-config with name sagemaker-xgboost-2024-08-08-13-04-14-072\n",
      "INFO:sagemaker:Creating endpoint with name sagemaker-xgboost-2024-08-08-13-04-14-072\n"
     ]
    },
    {
     "name": "stdout",
     "output_type": "stream",
     "text": [
      "-------!"
     ]
    }
   ],
   "source": [
    "xgb_predictor = estimator.deploy(initial_instance_count = 1, instance_type = 'ml.m4.xlarge')"
   ]
  },
  {
   "cell_type": "markdown",
   "id": "95b17f35",
   "metadata": {},
   "source": [
    "Prediction of Test Data:"
   ]
  },
  {
   "cell_type": "code",
   "execution_count": 39,
   "id": "84d579b0",
   "metadata": {},
   "outputs": [
    {
     "name": "stdout",
     "output_type": "stream",
     "text": [
      "(12357,)\n"
     ]
    }
   ],
   "source": [
    "from sagemaker.serializers import CSVSerializer\n",
    "\n",
    "\n",
    "test_df_array = test.drop(['y_no', 'y_yes'], axis=1).values # we are loading the data to array\n",
    "\n",
    "# Setting the data type for an inference:\n",
    "xgb_predictor.content_type = 'text/csv'\n",
    "\n",
    "# Serializer type:\n",
    "xgb_predictor.serializer = CSVSerializer()\n",
    "\n",
    "# Predicting:\n",
    "preds = xgb_predictor.predict(test_df_array).decode('utf-8')\n",
    "\n",
    "# Converting Prediction into an array:\n",
    "preds_array = np.fromstring(preds[1:], sep=',')\n",
    "\n",
    "print(preds_array.shape)"
   ]
  },
  {
   "cell_type": "markdown",
   "id": "4c817d60",
   "metadata": {},
   "source": [
    "Creating a Confusion Matrix:"
   ]
  },
  {
   "cell_type": "code",
   "execution_count": 41,
   "id": "fa12d5f0",
   "metadata": {},
   "outputs": [
    {
     "name": "stdout",
     "output_type": "stream",
     "text": [
      "\n",
      "Overall Classification Rate: 89.7%\n",
      "\n",
      "Predicted      No Purchase    Purchase\n",
      "Observed\n",
      "No Purchase    91% (10785)    34% (151)\n",
      "Purchase        9% (1124)     66% (297) \n",
      "\n"
     ]
    }
   ],
   "source": [
    "cm = pd.crosstab(index=test['y_yes'], columns = np.round(preds_array), rownames = ['Observed'], colnames=['Predicted'])\n",
    "tn = cm.iloc[0,0]; fn = cm.iloc[1,0]; tp = cm.iloc[1,1]; fp = cm.iloc[0,1]; p = (tp+tn)/(tp+tn+fp+fn)*100\n",
    "print('\\n{0:<20}{1:<4.1f}%\\n'.format('Overall Classification Rate: ', p))\n",
    "print('{0:<15}{1:<15}{2:>8}'.format('Predicted', 'No Purchase', 'Purchase'))\n",
    "print('Observed')\n",
    "print('{0:<15}{1:<2.0f}% ({2:<}){3:>6.0f}% ({4:<})'.format('No Purchase', tn/(tn+fn)*100,tn, fp/(tp+fp)*100, fp))\n",
    "print('{0:<16}{1:<1.0f}% ({2:<}){3:>7.0f}% ({4:<}) \\n'.format('Purchase', fn/(tn+fn)*100,fn, tp/(tp+fp)*100, tp))"
   ]
  },
  {
   "cell_type": "markdown",
   "id": "f146c547",
   "metadata": {},
   "source": [
    "- The 'Purchase' and 'No Purchase' Accuracy of Observed and Predicted looks low of 9% probably due to the imbalance dataset.\n",
    "- The 'Predicted' Value of Purchase and 'Observed' of 'No Purchase' gave out a 34%. We can increase the values by adjusting the hyperparameters "
   ]
  },
  {
   "cell_type": "markdown",
   "id": "18c30ed3",
   "metadata": {},
   "source": [
    "FInally, I will delete the End Points so I can stop AWS from charging as soon as the training is done: "
   ]
  },
  {
   "cell_type": "code",
   "execution_count": 42,
   "id": "2bfb0431",
   "metadata": {},
   "outputs": [
    {
     "name": "stderr",
     "output_type": "stream",
     "text": [
      "WARNING:sagemaker.deprecations:The endpoint attribute has been renamed in sagemaker>=2.\n",
      "See: https://sagemaker.readthedocs.io/en/stable/v2.html for details.\n",
      "INFO:sagemaker:Deleting endpoint with name: sagemaker-xgboost-2024-08-08-13-04-14-072\n"
     ]
    },
    {
     "data": {
      "text/plain": [
       "[{'ResponseMetadata': {'RequestId': 'QW2VWAVFKFBVZZPC',\n",
       "   'HostId': '+d+H9CBEuxqKNFyEYz00bqzFFmJuxkpbwTaau2KMVoYr2kQB4b1Biag2LV63SpevtU1gY8l9VSM=',\n",
       "   'HTTPStatusCode': 200,\n",
       "   'HTTPHeaders': {'x-amz-id-2': '+d+H9CBEuxqKNFyEYz00bqzFFmJuxkpbwTaau2KMVoYr2kQB4b1Biag2LV63SpevtU1gY8l9VSM=',\n",
       "    'x-amz-request-id': 'QW2VWAVFKFBVZZPC',\n",
       "    'date': 'Thu, 08 Aug 2024 13:49:39 GMT',\n",
       "    'content-type': 'application/xml',\n",
       "    'transfer-encoding': 'chunked',\n",
       "    'server': 'AmazonS3',\n",
       "    'connection': 'close'},\n",
       "   'RetryAttempts': 0},\n",
       "  'Deleted': [{'Key': 'xgboost-as-a-built-in-algo/output/sagemaker-xgboost-2024-08-08-12-27-02-767/profiler-output/framework/training_job_end.ts'},\n",
       "   {'Key': 'xgboost-as-a-built-in-algo/output/sagemaker-xgboost-2024-08-08-12-27-02-767/debug-output/index/000000000/000000000020_worker_0.json'},\n",
       "   {'Key': 'xgboost-as-a-built-in-algo/output/sagemaker-xgboost-2024-08-08-12-27-02-767/debug-output/index/000000000/000000000000_worker_0.json'},\n",
       "   {'Key': 'xgboost-as-a-built-in-algo/output/sagemaker-xgboost-2024-08-08-12-27-02-767/profiler-output/system/incremental/2024080812/1723120020.algo-1.json'},\n",
       "   {'Key': 'xgboost-as-a-built-in-algo/output/sagemaker-xgboost-2024-08-08-12-27-02-767/profiler-output/system/training_job_end.ts'},\n",
       "   {'Key': 'xgboost-as-a-built-in-algo/output/sagemaker-xgboost-2024-08-08-12-27-02-767/profiler-output/system/incremental/2024080812/1723120080.algo-1.json'},\n",
       "   {'Key': 'xgboost-as-a-built-in-algo/test/test.csv'},\n",
       "   {'Key': 'xgboost-as-a-built-in-algo/output/sagemaker-xgboost-2024-08-08-12-27-02-767/debug-output/events/000000000010/000000000010_worker_0.tfevents'},\n",
       "   {'Key': 'xgboost-as-a-built-in-algo/output/sagemaker-xgboost-2024-08-08-12-27-02-767/debug-output/events/000000000030/000000000030_worker_0.tfevents'},\n",
       "   {'Key': 'xgboost-as-a-built-in-algo/output/sagemaker-xgboost-2024-08-08-12-27-02-767/profiler-output/system/incremental/2024080812/1723120140.algo-1.json'},\n",
       "   {'Key': 'xgboost-as-a-built-in-algo/train/train.csv'},\n",
       "   {'Key': 'xgboost-as-a-built-in-algo/output/sagemaker-xgboost-2024-08-08-12-27-02-767/debug-output/events/000000000000/000000000000_worker_0.tfevents'},\n",
       "   {'Key': 'xgboost-as-a-built-in-algo/output/sagemaker-xgboost-2024-08-08-12-27-02-767/output/model.tar.gz'},\n",
       "   {'Key': 'xgboost-as-a-built-in-algo/output/sagemaker-xgboost-2024-08-08-12-27-02-767/debug-output/index/000000000/000000000040_worker_0.json'},\n",
       "   {'Key': 'xgboost-as-a-built-in-algo/output/sagemaker-xgboost-2024-08-08-12-27-02-767/debug-output/collections/000000000/worker_0_collections.json'},\n",
       "   {'Key': 'xgboost-as-a-built-in-algo/output/sagemaker-xgboost-2024-08-08-12-27-02-767/debug-output/events/000000000020/000000000020_worker_0.tfevents'},\n",
       "   {'Key': 'xgboost-as-a-built-in-algo/output/sagemaker-xgboost-2024-08-08-12-27-02-767/debug-output/index/000000000/000000000030_worker_0.json'},\n",
       "   {'Key': 'xgboost-as-a-built-in-algo/output/sagemaker-xgboost-2024-08-08-12-27-02-767/debug-output/claim.smd'},\n",
       "   {'Key': 'xgboost-as-a-built-in-algo/output/sagemaker-xgboost-2024-08-08-12-27-02-767/debug-output/events/000000000040/000000000040_worker_0.tfevents'},\n",
       "   {'Key': 'xgboost-as-a-built-in-algo/output/sagemaker-xgboost-2024-08-08-12-27-02-767/debug-output/index/000000000/000000000010_worker_0.json'},\n",
       "   {'Key': 'xgboost-as-a-built-in-algo/output/sagemaker-xgboost-2024-08-08-12-27-02-767/debug-output/training_job_end.ts'}]}]"
      ]
     },
     "execution_count": 42,
     "metadata": {},
     "output_type": "execute_result"
    }
   ],
   "source": [
    "sagemaker.Session().delete_endpoint(xgb_predictor.endpoint)\n",
    "delete_bucket = boto3.resource('s3').Bucket(bucket_name)\n",
    "delete_bucket.objects.all().delete()"
   ]
  }
 ],
 "metadata": {
  "kernelspec": {
   "display_name": "conda_python3",
   "language": "python",
   "name": "conda_python3"
  },
  "language_info": {
   "codemirror_mode": {
    "name": "ipython",
    "version": 3
   },
   "file_extension": ".py",
   "mimetype": "text/x-python",
   "name": "python",
   "nbconvert_exporter": "python",
   "pygments_lexer": "ipython3",
   "version": "3.10.14"
  }
 },
 "nbformat": 4,
 "nbformat_minor": 5
}
